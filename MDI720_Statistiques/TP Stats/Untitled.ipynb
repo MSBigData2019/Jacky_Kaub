{
 "cells": [
  {
   "cell_type": "markdown",
   "metadata": {},
   "source": [
    "# Le Boostrap, en pratique"
   ]
  },
  {
   "cell_type": "markdown",
   "metadata": {},
   "source": [
    "Alors, j'ai vu la question passé, et effectivement, sans exemple, le sujet est pas super super clair... \n",
    "Du coup je me suis dit que ça serait sympa de faire un petit exemple expliqué pour illustrer cette méthode de création d'intervalles de confiance.\n",
    "\n",
    "Vu qu'on a tous bossé sur le TP de stat, j'ai essayé de créer un algo de bootstrap en partant de ce dernier."
   ]
  },
  {
   "cell_type": "markdown",
   "metadata": {},
   "source": [
    "### Import des librairies"
   ]
  },
  {
   "cell_type": "code",
   "execution_count": 1,
   "metadata": {},
   "outputs": [],
   "source": [
    "import numpy as np\n",
    "import pandas as pd\n",
    "import matplotlib.pyplot as plt\n",
    "import seaborn as sns\n",
    "import random\n",
    "import scipy.stats as stats\n",
    "from decimal import Decimal\n",
    "from sklearn import linear_model\n",
    "from sklearn import metrics\n",
    "from mpl_toolkits.mplot3d import Axes3D\n",
    "from matplotlib import cm\n",
    "from matplotlib.ticker import LinearLocator, FormatStrFormatter"
   ]
  },
  {
   "cell_type": "markdown",
   "metadata": {},
   "source": [
    "### Chargement de la dataframe, et création de 2/3 fonctions utiles "
   ]
  },
  {
   "cell_type": "code",
   "execution_count": 2,
   "metadata": {},
   "outputs": [],
   "source": [
    "df_invest=pd.read_csv(\"https://bitbucket.org/portierf/shared_files/downloads/invest.txt\", sep = \" \")"
   ]
  },
  {
   "cell_type": "markdown",
   "metadata": {},
   "source": [
    "Je vais créer deux fonctions. Une première fonction qui me permet de récupérer rapidement l'estimateur des moindres carrés (que j'appelle ici $\\hat\\beta$) en fonctioner de la matrice X et de Y.\n",
    "\n",
    "La deuxième fonction me servira pour le Bootstrap, j'y reviens plus tard"
   ]
  },
  {
   "cell_type": "code",
   "execution_count": 9,
   "metadata": {},
   "outputs": [],
   "source": [
    "def b_est(X,y):\n",
    "    \n",
    "    \"\"\"Calcul l'estimateur des moindres carrés\"\"\"\n",
    "    \n",
    "    X_mat = np.concatenate([ones,X],axis=1)\n",
    "    Gram = X_mat.transpose().dot(X_mat)\n",
    "    inv_Gram = np.linalg.inv(Gram)\n",
    "    return inv_Gram.dot(X_mat.transpose().dot(y))\n",
    "\n",
    "def new_b():\n",
    "    \n",
    "    \"\"\"Calcul l'estimateur des moindres carrées après avoir tiré aléatoirement nos données parmis nos données\"\"\"\n",
    "    \n",
    "    i=[random.randint(0,len(y)-1) for k in range(len(y))]\n",
    "    new_X = np.matrix([np.log(df_invest.loc[k,\"gnp\"]) for k in i]).reshape(n,1)\n",
    "    new_y = np.matrix([np.log(df_invest.loc[k,\"invest\"]) for k in i]).reshape(n,1)\n",
    "    return b_est(new_X,new_y)"
   ]
  },
  {
   "cell_type": "markdown",
   "metadata": {},
   "source": [
    "### Pourquoi le Bootstrap"
   ]
  },
  {
   "cell_type": "markdown",
   "metadata": {},
   "source": [
    "Pour se donner un intervalle de confiance, on a besoin de voir à quelle distance se trouve $\\hat\\beta$de $\\beta^*$, et on s'intéresse à la loi décrite par T = $\\hat\\beta$ - $\\beta^*$\n",
    "\n",
    "On a vu dans le TP qu'on pouvait calculer un intervalle pour les composantes de $\\beta^*$ à l'aide de la variance de var($\\hat\\beta$) et de nos connaissances sur les lois normales/de student centrées réduites. Le problème est que la variance de $\\hat\\beta$ est directement lié à la variance de l'erreur sur Y appelé $\\sigma$.\n",
    "\n",
    "Dans le TP, on a construit un estimateur de $\\sigma$ en se basant sur l'hypothèse des $\\epsilon$ gaussiens iid centrés en 0.\n",
    "\n",
    "Parfois, il n'est malheureusement pas possible d'obtenir un estimateur correct pour $\\sigma$ et il n'est donc plus possible de se ramener à une loi de dispersion connue.\n",
    "On va donc chercher un autre moyen d'évaluer la loi de dispersion de T = $\\hat\\beta$ - $\\beta^*$\n",
    "\n",
    "La théorie derrière le bootstrap "
   ]
  },
  {
   "cell_type": "code",
   "execution_count": null,
   "metadata": {},
   "outputs": [],
   "source": []
  },
  {
   "cell_type": "code",
   "execution_count": null,
   "metadata": {},
   "outputs": [],
   "source": []
  }
 ],
 "metadata": {
  "kernelspec": {
   "display_name": "Python 3",
   "language": "python",
   "name": "python3"
  },
  "language_info": {
   "codemirror_mode": {
    "name": "ipython",
    "version": 3
   },
   "file_extension": ".py",
   "mimetype": "text/x-python",
   "name": "python",
   "nbconvert_exporter": "python",
   "pygments_lexer": "ipython3",
   "version": "3.7.0"
  }
 },
 "nbformat": 4,
 "nbformat_minor": 2
}
